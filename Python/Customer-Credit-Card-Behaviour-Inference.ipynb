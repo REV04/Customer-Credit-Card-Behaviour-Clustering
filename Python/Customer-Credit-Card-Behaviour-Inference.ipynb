{
 "cells": [
  {
   "cell_type": "markdown",
   "metadata": {},
   "source": [
    "### ***Import Libraries***"
   ]
  },
  {
   "cell_type": "markdown",
   "metadata": {},
   "source": [
    "----"
   ]
  },
  {
   "cell_type": "code",
   "execution_count": 1,
   "metadata": {},
   "outputs": [],
   "source": [
    "#Import library\n",
    "\n",
    "import pandas as pd\n",
    "import numpy as np\n",
    "import pickle"
   ]
  },
  {
   "cell_type": "markdown",
   "metadata": {},
   "source": [
    "---"
   ]
  },
  {
   "cell_type": "markdown",
   "metadata": {},
   "source": [
    "<vspace>"
   ]
  },
  {
   "cell_type": "markdown",
   "metadata": {},
   "source": [
    "### ***Load Model***"
   ]
  },
  {
   "cell_type": "markdown",
   "metadata": {},
   "source": [
    "---"
   ]
  },
  {
   "cell_type": "code",
   "execution_count": 2,
   "metadata": {},
   "outputs": [],
   "source": [
    "#Load Model\n",
    "with open('model_scaler.pkl', 'rb') as file_1:\n",
    "  scaler = pickle.load(file_1)\n",
    "\n",
    "with open('PCA.pkl', 'rb') as file_2:\n",
    "  pca = pickle.load(file_2)\n",
    "\n",
    "with open('K-means.pkl', 'rb') as file_3:\n",
    "  km = pickle.load(file_3)"
   ]
  },
  {
   "cell_type": "markdown",
   "metadata": {},
   "source": [
    "---"
   ]
  },
  {
   "cell_type": "markdown",
   "metadata": {},
   "source": [
    "<vspace>"
   ]
  },
  {
   "cell_type": "markdown",
   "metadata": {},
   "source": [
    "### ***Inference Data***"
   ]
  },
  {
   "cell_type": "markdown",
   "metadata": {},
   "source": [
    "---"
   ]
  },
  {
   "cell_type": "markdown",
   "metadata": {},
   "source": [
    "make data for inference"
   ]
  },
  {
   "cell_type": "code",
   "execution_count": 3,
   "metadata": {},
   "outputs": [
    {
     "data": {
      "text/html": [
       "<div>\n",
       "<style scoped>\n",
       "    .dataframe tbody tr th:only-of-type {\n",
       "        vertical-align: middle;\n",
       "    }\n",
       "\n",
       "    .dataframe tbody tr th {\n",
       "        vertical-align: top;\n",
       "    }\n",
       "\n",
       "    .dataframe thead th {\n",
       "        text-align: right;\n",
       "    }\n",
       "</style>\n",
       "<table border=\"1\" class=\"dataframe\">\n",
       "  <thead>\n",
       "    <tr style=\"text-align: right;\">\n",
       "      <th></th>\n",
       "      <th>CUST_ID</th>\n",
       "      <th>BALANCE LEFT</th>\n",
       "      <th>BALANCE_FREQUENCY</th>\n",
       "      <th>PURCHASES</th>\n",
       "      <th>ONEOFF_PURCHASES</th>\n",
       "      <th>INSTALLMENTS_PURCHASES</th>\n",
       "      <th>CASH_ADVANCE</th>\n",
       "      <th>PURCHASES_FREQUENCY</th>\n",
       "      <th>ONEOFF_PURCHASES_FREQUENCY</th>\n",
       "      <th>PURCHASES_INSTALLMENTS_FREQUENCY</th>\n",
       "      <th>CASH_ADVANCE_FREQUENCY</th>\n",
       "      <th>CASH_ADVANCE_TRX</th>\n",
       "      <th>PURCHASES_TRX</th>\n",
       "      <th>CREDIT_LIMIT</th>\n",
       "      <th>PAYMENTS</th>\n",
       "      <th>MINIMUM_PAYMENTS</th>\n",
       "      <th>PRC_FULL_PAYMENT</th>\n",
       "      <th>TENURE</th>\n",
       "    </tr>\n",
       "  </thead>\n",
       "  <tbody>\n",
       "    <tr>\n",
       "      <th>0</th>\n",
       "      <td>1234</td>\n",
       "      <td>1500</td>\n",
       "      <td>0.95</td>\n",
       "      <td>4130</td>\n",
       "      <td>2560</td>\n",
       "      <td>1570</td>\n",
       "      <td>497</td>\n",
       "      <td>0.91</td>\n",
       "      <td>0.567</td>\n",
       "      <td>0.697</td>\n",
       "      <td>0.06</td>\n",
       "      <td>1.396</td>\n",
       "      <td>46</td>\n",
       "      <td>6700</td>\n",
       "      <td>3300</td>\n",
       "      <td>987</td>\n",
       "      <td>11.65</td>\n",
       "      <td>8</td>\n",
       "    </tr>\n",
       "  </tbody>\n",
       "</table>\n",
       "</div>"
      ],
      "text/plain": [
       "   CUST_ID  BALANCE LEFT  BALANCE_FREQUENCY  PURCHASES  ONEOFF_PURCHASES  \\\n",
       "0     1234          1500               0.95       4130              2560   \n",
       "\n",
       "   INSTALLMENTS_PURCHASES  CASH_ADVANCE  PURCHASES_FREQUENCY  \\\n",
       "0                    1570           497                 0.91   \n",
       "\n",
       "   ONEOFF_PURCHASES_FREQUENCY  PURCHASES_INSTALLMENTS_FREQUENCY  \\\n",
       "0                       0.567                             0.697   \n",
       "\n",
       "   CASH_ADVANCE_FREQUENCY  CASH_ADVANCE_TRX  PURCHASES_TRX  CREDIT_LIMIT  \\\n",
       "0                    0.06             1.396             46          6700   \n",
       "\n",
       "   PAYMENTS  MINIMUM_PAYMENTS  PRC_FULL_PAYMENT  TENURE  \n",
       "0      3300               987             11.65       8  "
      ]
     },
     "execution_count": 3,
     "metadata": {},
     "output_type": "execute_result"
    }
   ],
   "source": [
    "# Inference Data\n",
    "data_inf = {\n",
    "    'CUST_ID': 1234,\n",
    "    'BALANCE LEFT': 1500,\n",
    "    'BALANCE_FREQUENCY': 0.95,\n",
    "    'PURCHASES': 4130, \n",
    "    'ONEOFF_PURCHASES': 2560, \n",
    "    'INSTALLMENTS_PURCHASES': 1570,\n",
    "    'CASH_ADVANCE': 497,\n",
    "    'PURCHASES_FREQUENCY': 0.91, \n",
    "    'ONEOFF_PURCHASES_FREQUENCY': 0.567, \n",
    "    'PURCHASES_INSTALLMENTS_FREQUENCY': 0.697,\n",
    "    'CASH_ADVANCE_FREQUENCY': 0.06, \n",
    "    'CASH_ADVANCE_TRX': 1.396, \n",
    "    'PURCHASES_TRX': 46,\n",
    "    'CREDIT_LIMIT': 6700,\n",
    "    'PAYMENTS': 3300,\n",
    "    'MINIMUM_PAYMENTS': 987,\n",
    "    'PRC_FULL_PAYMENT' : 11.65,\n",
    "    'TENURE': 8\n",
    "}\n",
    "# Make into a data frame\n",
    "data_inf = pd.DataFrame([data_inf])\n",
    "data_inf"
   ]
  },
  {
   "cell_type": "markdown",
   "metadata": {},
   "source": [
    "Follows the step in main program, CUST_ID and TENURE will be drop"
   ]
  },
  {
   "cell_type": "code",
   "execution_count": 4,
   "metadata": {},
   "outputs": [],
   "source": [
    "# Drop CUST ID and TENURE\n",
    "data_inf = data_inf.drop(['CUST_ID','TENURE'], axis = 1)"
   ]
  },
  {
   "cell_type": "markdown",
   "metadata": {},
   "source": [
    "Next using scaler and pca to transform the data inference"
   ]
  },
  {
   "cell_type": "code",
   "execution_count": 5,
   "metadata": {},
   "outputs": [],
   "source": [
    "# Scaling data inference\n",
    "data_inf_scaled = scaler.transform(data_inf)"
   ]
  },
  {
   "cell_type": "code",
   "execution_count": 6,
   "metadata": {},
   "outputs": [],
   "source": [
    "# PCA for data inference scaled\n",
    "data_inf_scaled_pca = pca.transform(data_inf_scaled)"
   ]
  },
  {
   "cell_type": "markdown",
   "metadata": {},
   "source": [
    "Proceed to K-means to predict the data"
   ]
  },
  {
   "cell_type": "code",
   "execution_count": 7,
   "metadata": {},
   "outputs": [
    {
     "name": "stdout",
     "output_type": "stream",
     "text": [
      "Customer are classified as Heavy Spenders\n"
     ]
    }
   ],
   "source": [
    "# Predict the data inference that has been scaled and PCA transform\n",
    "pred = km.predict(data_inf_scaled_pca)\n",
    "# Make loop for categorize each cluster\n",
    "if pred[0] == 0:\n",
    "    print('Customer are classified as Heavy Spenders')\n",
    "elif pred[0] == 1:\n",
    "    print('Customer are classified as Low Spenders')\n",
    "elif pred[0] == 2:\n",
    "    print('Customer are classified as Cash Advance Heavy Users')"
   ]
  },
  {
   "cell_type": "markdown",
   "metadata": {},
   "source": [
    "From data inference, customer are classified as heavy spenders"
   ]
  },
  {
   "cell_type": "markdown",
   "metadata": {},
   "source": [
    "-----"
   ]
  }
 ],
 "metadata": {
  "kernelspec": {
   "display_name": "base",
   "language": "python",
   "name": "python3"
  },
  "language_info": {
   "codemirror_mode": {
    "name": "ipython",
    "version": 3
   },
   "file_extension": ".py",
   "mimetype": "text/x-python",
   "name": "python",
   "nbconvert_exporter": "python",
   "pygments_lexer": "ipython3",
   "version": "3.11.7"
  }
 },
 "nbformat": 4,
 "nbformat_minor": 2
}
